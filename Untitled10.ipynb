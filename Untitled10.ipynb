{
  "nbformat": 4,
  "nbformat_minor": 0,
  "metadata": {
    "colab": {
      "provenance": [],
      "authorship_tag": "ABX9TyNGPR4/LozJzN87sGHTHDHP",
      "include_colab_link": true
    },
    "kernelspec": {
      "name": "python3",
      "display_name": "Python 3"
    },
    "language_info": {
      "name": "python"
    }
  },
  "cells": [
    {
      "cell_type": "markdown",
      "metadata": {
        "id": "view-in-github",
        "colab_type": "text"
      },
      "source": [
        "<a href=\"https://colab.research.google.com/github/santhosh1728/python-day2/blob/main/Untitled10.ipynb\" target=\"_parent\"><img src=\"https://colab.research.google.com/assets/colab-badge.svg\" alt=\"Open In Colab\"/></a>"
      ]
    },
    {
      "cell_type": "code",
      "execution_count": 1,
      "metadata": {
        "id": "mUBeIiGBFXsV"
      },
      "outputs": [],
      "source": [
        "import numpy as  np"
      ]
    },
    {
      "cell_type": "code",
      "source": [
        "arr=np.array([1,2,3,4,5,5])\n",
        "arr"
      ],
      "metadata": {
        "colab": {
          "base_uri": "https://localhost:8080/"
        },
        "id": "TcwE9Q24F9zb",
        "outputId": "d4677811-49b9-4f2b-9b14-0fff73b20b97"
      },
      "execution_count": 2,
      "outputs": [
        {
          "output_type": "execute_result",
          "data": {
            "text/plain": [
              "array([1, 2, 3, 4, 5, 5])"
            ]
          },
          "metadata": {},
          "execution_count": 2
        }
      ]
    },
    {
      "cell_type": "code",
      "source": [
        "np.arange(1,34)"
      ],
      "metadata": {
        "colab": {
          "base_uri": "https://localhost:8080/"
        },
        "id": "1k2dypLgGGJ0",
        "outputId": "db80fbe5-5864-486d-9d36-a6f5ef136726"
      },
      "execution_count": 3,
      "outputs": [
        {
          "output_type": "execute_result",
          "data": {
            "text/plain": [
              "array([ 1,  2,  3,  4,  5,  6,  7,  8,  9, 10, 11, 12, 13, 14, 15, 16, 17,\n",
              "       18, 19, 20, 21, 22, 23, 24, 25, 26, 27, 28, 29, 30, 31, 32, 33])"
            ]
          },
          "metadata": {},
          "execution_count": 3
        }
      ]
    },
    {
      "cell_type": "code",
      "source": [
        "np.arange(2,88)"
      ],
      "metadata": {
        "colab": {
          "base_uri": "https://localhost:8080/"
        },
        "id": "8WubBu-0GLMK",
        "outputId": "8451d033-67ba-4228-c595-4c2f4c53dec6"
      },
      "execution_count": 5,
      "outputs": [
        {
          "output_type": "execute_result",
          "data": {
            "text/plain": [
              "array([ 2,  3,  4,  5,  6,  7,  8,  9, 10, 11, 12, 13, 14, 15, 16, 17, 18,\n",
              "       19, 20, 21, 22, 23, 24, 25, 26, 27, 28, 29, 30, 31, 32, 33, 34, 35,\n",
              "       36, 37, 38, 39, 40, 41, 42, 43, 44, 45, 46, 47, 48, 49, 50, 51, 52,\n",
              "       53, 54, 55, 56, 57, 58, 59, 60, 61, 62, 63, 64, 65, 66, 67, 68, 69,\n",
              "       70, 71, 72, 73, 74, 75, 76, 77, 78, 79, 80, 81, 82, 83, 84, 85, 86,\n",
              "       87])"
            ]
          },
          "metadata": {},
          "execution_count": 5
        }
      ]
    },
    {
      "cell_type": "code",
      "source": [
        "list_of_lists=[[1,2,4],[,3,4,5],[8,5,6]]\n",
        "np.array(list_of_lists)"
      ],
      "metadata": {
        "colab": {
          "base_uri": "https://localhost:8080/",
          "height": 130
        },
        "id": "1RZh7TRKGPQ0",
        "outputId": "bcee8f56-0622-4265-ccd0-f4af2a721183"
      },
      "execution_count": 6,
      "outputs": [
        {
          "output_type": "error",
          "ename": "SyntaxError",
          "evalue": "ignored",
          "traceback": [
            "\u001b[0;36m  File \u001b[0;32m\"<ipython-input-6-8c07e66861d7>\"\u001b[0;36m, line \u001b[0;32m1\u001b[0m\n\u001b[0;31m    list_of_lists=[[1,2,4],[,3,4,5],[8,5,6]]\u001b[0m\n\u001b[0m                            ^\u001b[0m\n\u001b[0;31mSyntaxError\u001b[0m\u001b[0;31m:\u001b[0m invalid syntax\n"
          ]
        }
      ]
    },
    {
      "cell_type": "code",
      "source": [
        "np.arange(20)"
      ],
      "metadata": {
        "id": "F_nDhuaWGknb",
        "outputId": "2125381c-656b-47bf-b4e2-28a9755b0d93",
        "colab": {
          "base_uri": "https://localhost:8080/"
        }
      },
      "execution_count": 7,
      "outputs": [
        {
          "output_type": "execute_result",
          "data": {
            "text/plain": [
              "array([ 0,  1,  2,  3,  4,  5,  6,  7,  8,  9, 10, 11, 12, 13, 14, 15, 16,\n",
              "       17, 18, 19])"
            ]
          },
          "metadata": {},
          "execution_count": 7
        }
      ]
    },
    {
      "cell_type": "code",
      "source": [
        "np.eye(7)"
      ],
      "metadata": {
        "id": "0IQGWDCqGw1R",
        "outputId": "a3b407b7-a742-4883-8a60-bbed56294a7a",
        "colab": {
          "base_uri": "https://localhost:8080/"
        }
      },
      "execution_count": 8,
      "outputs": [
        {
          "output_type": "execute_result",
          "data": {
            "text/plain": [
              "array([[1., 0., 0., 0., 0., 0., 0.],\n",
              "       [0., 1., 0., 0., 0., 0., 0.],\n",
              "       [0., 0., 1., 0., 0., 0., 0.],\n",
              "       [0., 0., 0., 1., 0., 0., 0.],\n",
              "       [0., 0., 0., 0., 1., 0., 0.],\n",
              "       [0., 0., 0., 0., 0., 1., 0.],\n",
              "       [0., 0., 0., 0., 0., 0., 1.]])"
            ]
          },
          "metadata": {},
          "execution_count": 8
        }
      ]
    },
    {
      "cell_type": "code",
      "source": [
        "np.zeros(28)"
      ],
      "metadata": {
        "id": "Xub2Fif5G3OC",
        "outputId": "ef7dc5ba-aa8e-4ec1-abec-d0fa2a318ad0",
        "colab": {
          "base_uri": "https://localhost:8080/"
        }
      },
      "execution_count": 9,
      "outputs": [
        {
          "output_type": "execute_result",
          "data": {
            "text/plain": [
              "array([0., 0., 0., 0., 0., 0., 0., 0., 0., 0., 0., 0., 0., 0., 0., 0., 0.,\n",
              "       0., 0., 0., 0., 0., 0., 0., 0., 0., 0., 0.])"
            ]
          },
          "metadata": {},
          "execution_count": 9
        }
      ]
    },
    {
      "cell_type": "code",
      "source": [
        "np.arange(1,20,5)"
      ],
      "metadata": {
        "id": "hCfHTX-NG65V",
        "outputId": "77da3d0e-bcc3-43e8-ee7c-1551e8c682a6",
        "colab": {
          "base_uri": "https://localhost:8080/"
        }
      },
      "execution_count": 10,
      "outputs": [
        {
          "output_type": "execute_result",
          "data": {
            "text/plain": [
              "array([ 1,  6, 11, 16])"
            ]
          },
          "metadata": {},
          "execution_count": 10
        }
      ]
    },
    {
      "cell_type": "code",
      "source": [
        "np.arange(1,46,5)"
      ],
      "metadata": {
        "id": "JCncEJ7THBBS",
        "outputId": "b9b9fb7d-673d-4478-d603-355f80dd0c06",
        "colab": {
          "base_uri": "https://localhost:8080/"
        }
      },
      "execution_count": 11,
      "outputs": [
        {
          "output_type": "execute_result",
          "data": {
            "text/plain": [
              "array([ 1,  6, 11, 16, 21, 26, 31, 36, 41])"
            ]
          },
          "metadata": {},
          "execution_count": 11
        }
      ]
    },
    {
      "cell_type": "code",
      "source": [
        "np.arange(1,46,5)+6"
      ],
      "metadata": {
        "id": "8LHAR7W1HFyi",
        "outputId": "6858afe4-71e0-4ef2-c60f-8662e8f0a0bd",
        "colab": {
          "base_uri": "https://localhost:8080/"
        }
      },
      "execution_count": 12,
      "outputs": [
        {
          "output_type": "execute_result",
          "data": {
            "text/plain": [
              "array([ 7, 12, 17, 22, 27, 32, 37, 42, 47])"
            ]
          },
          "metadata": {},
          "execution_count": 12
        }
      ]
    },
    {
      "cell_type": "code",
      "source": [
        "np.zeros((27,93))"
      ],
      "metadata": {
        "id": "KTss6fCpHOx8",
        "outputId": "3fba33cc-570e-44d9-c469-a1b4d95347ba",
        "colab": {
          "base_uri": "https://localhost:8080/"
        }
      },
      "execution_count": 18,
      "outputs": [
        {
          "output_type": "execute_result",
          "data": {
            "text/plain": [
              "array([[0., 0., 0., ..., 0., 0., 0.],\n",
              "       [0., 0., 0., ..., 0., 0., 0.],\n",
              "       [0., 0., 0., ..., 0., 0., 0.],\n",
              "       ...,\n",
              "       [0., 0., 0., ..., 0., 0., 0.],\n",
              "       [0., 0., 0., ..., 0., 0., 0.],\n",
              "       [0., 0., 0., ..., 0., 0., 0.]])"
            ]
          },
          "metadata": {},
          "execution_count": 18
        }
      ]
    },
    {
      "cell_type": "code",
      "source": [
        "np.ones((2,3))\n"
      ],
      "metadata": {
        "id": "fSYnfvDFH1EJ",
        "outputId": "2361f457-e9bb-4aec-90f2-5e25263502de",
        "colab": {
          "base_uri": "https://localhost:8080/"
        }
      },
      "execution_count": 17,
      "outputs": [
        {
          "output_type": "execute_result",
          "data": {
            "text/plain": [
              "array([[1., 1., 1.],\n",
              "       [1., 1., 1.]])"
            ]
          },
          "metadata": {},
          "execution_count": 17
        }
      ]
    },
    {
      "cell_type": "code",
      "source": [
        "np.zeros((2,10))"
      ],
      "metadata": {
        "id": "Fs5OEjW-H__E",
        "outputId": "ef30fa11-8243-44fb-ddfc-4512be61b82f",
        "colab": {
          "base_uri": "https://localhost:8080/"
        }
      },
      "execution_count": 21,
      "outputs": [
        {
          "output_type": "execute_result",
          "data": {
            "text/plain": [
              "array([[0., 0., 0., 0., 0., 0., 0., 0., 0., 0.],\n",
              "       [0., 0., 0., 0., 0., 0., 0., 0., 0., 0.]])"
            ]
          },
          "metadata": {},
          "execution_count": 21
        }
      ]
    },
    {
      "cell_type": "code",
      "source": [
        "np.linspace(0,20,8)"
      ],
      "metadata": {
        "id": "xdT63Sw7ISlQ",
        "outputId": "7ac7a51c-4f65-43f0-8bcb-7c119a8f50d9",
        "colab": {
          "base_uri": "https://localhost:8080/"
        }
      },
      "execution_count": 22,
      "outputs": [
        {
          "output_type": "execute_result",
          "data": {
            "text/plain": [
              "array([ 0.        ,  2.85714286,  5.71428571,  8.57142857, 11.42857143,\n",
              "       14.28571429, 17.14285714, 20.        ])"
            ]
          },
          "metadata": {},
          "execution_count": 22
        }
      ]
    },
    {
      "cell_type": "code",
      "source": [
        "np.eye(7,3)"
      ],
      "metadata": {
        "id": "cQF61PPOIqR8",
        "outputId": "94d04160-a42c-44e6-db6d-472e1fcf226a",
        "colab": {
          "base_uri": "https://localhost:8080/"
        }
      },
      "execution_count": 23,
      "outputs": [
        {
          "output_type": "execute_result",
          "data": {
            "text/plain": [
              "array([[1., 0., 0.],\n",
              "       [0., 1., 0.],\n",
              "       [0., 0., 1.],\n",
              "       [0., 0., 0.],\n",
              "       [0., 0., 0.],\n",
              "       [0., 0., 0.],\n",
              "       [0., 0., 0.]])"
            ]
          },
          "metadata": {},
          "execution_count": 23
        }
      ]
    },
    {
      "cell_type": "code",
      "source": [
        "np.linspace(34,56)"
      ],
      "metadata": {
        "id": "IbmnnfsdIu3r",
        "outputId": "3c49b72d-31e5-404d-aab6-b2d88adc2d0e",
        "colab": {
          "base_uri": "https://localhost:8080/"
        }
      },
      "execution_count": 24,
      "outputs": [
        {
          "output_type": "execute_result",
          "data": {
            "text/plain": [
              "array([34.        , 34.44897959, 34.89795918, 35.34693878, 35.79591837,\n",
              "       36.24489796, 36.69387755, 37.14285714, 37.59183673, 38.04081633,\n",
              "       38.48979592, 38.93877551, 39.3877551 , 39.83673469, 40.28571429,\n",
              "       40.73469388, 41.18367347, 41.63265306, 42.08163265, 42.53061224,\n",
              "       42.97959184, 43.42857143, 43.87755102, 44.32653061, 44.7755102 ,\n",
              "       45.2244898 , 45.67346939, 46.12244898, 46.57142857, 47.02040816,\n",
              "       47.46938776, 47.91836735, 48.36734694, 48.81632653, 49.26530612,\n",
              "       49.71428571, 50.16326531, 50.6122449 , 51.06122449, 51.51020408,\n",
              "       51.95918367, 52.40816327, 52.85714286, 53.30612245, 53.75510204,\n",
              "       54.20408163, 54.65306122, 55.10204082, 55.55102041, 56.        ])"
            ]
          },
          "metadata": {},
          "execution_count": 24
        }
      ]
    },
    {
      "cell_type": "code",
      "source": [
        "np.linspace(0,10)"
      ],
      "metadata": {
        "id": "Q4yiU5rdJK74",
        "outputId": "1cfd88a9-4695-4365-f09d-cc430dffc207",
        "colab": {
          "base_uri": "https://localhost:8080/"
        }
      },
      "execution_count": 26,
      "outputs": [
        {
          "output_type": "execute_result",
          "data": {
            "text/plain": [
              "array([ 0.        ,  0.20408163,  0.40816327,  0.6122449 ,  0.81632653,\n",
              "        1.02040816,  1.2244898 ,  1.42857143,  1.63265306,  1.83673469,\n",
              "        2.04081633,  2.24489796,  2.44897959,  2.65306122,  2.85714286,\n",
              "        3.06122449,  3.26530612,  3.46938776,  3.67346939,  3.87755102,\n",
              "        4.08163265,  4.28571429,  4.48979592,  4.69387755,  4.89795918,\n",
              "        5.10204082,  5.30612245,  5.51020408,  5.71428571,  5.91836735,\n",
              "        6.12244898,  6.32653061,  6.53061224,  6.73469388,  6.93877551,\n",
              "        7.14285714,  7.34693878,  7.55102041,  7.75510204,  7.95918367,\n",
              "        8.16326531,  8.36734694,  8.57142857,  8.7755102 ,  8.97959184,\n",
              "        9.18367347,  9.3877551 ,  9.59183673,  9.79591837, 10.        ])"
            ]
          },
          "metadata": {},
          "execution_count": 26
        }
      ]
    },
    {
      "cell_type": "code",
      "source": [
        "np.linspace(0,10,5)"
      ],
      "metadata": {
        "id": "O633LnRJJS7a",
        "outputId": "1bec4492-fc13-45fa-a21e-64109383516f",
        "colab": {
          "base_uri": "https://localhost:8080/"
        }
      },
      "execution_count": 27,
      "outputs": [
        {
          "output_type": "execute_result",
          "data": {
            "text/plain": [
              "array([ 0. ,  2.5,  5. ,  7.5, 10. ])"
            ]
          },
          "metadata": {},
          "execution_count": 27
        }
      ]
    },
    {
      "cell_type": "code",
      "source": [
        "np.linspace(1,10,5)"
      ],
      "metadata": {
        "id": "F-gU_EzKJgvU",
        "outputId": "bf1d393c-693d-4f0d-8059-9a53ecb78b3f",
        "colab": {
          "base_uri": "https://localhost:8080/"
        }
      },
      "execution_count": 28,
      "outputs": [
        {
          "output_type": "execute_result",
          "data": {
            "text/plain": [
              "array([ 1.  ,  3.25,  5.5 ,  7.75, 10.  ])"
            ]
          },
          "metadata": {},
          "execution_count": 28
        }
      ]
    },
    {
      "cell_type": "code",
      "source": [
        "np.linspace(90,1)"
      ],
      "metadata": {
        "id": "-xSCE4VKJlRB",
        "outputId": "1d6c9710-0a8a-450c-ee27-bd1770ff0568",
        "colab": {
          "base_uri": "https://localhost:8080/"
        }
      },
      "execution_count": 30,
      "outputs": [
        {
          "output_type": "execute_result",
          "data": {
            "text/plain": [
              "array([90.        , 88.18367347, 86.36734694, 84.55102041, 82.73469388,\n",
              "       80.91836735, 79.10204082, 77.28571429, 75.46938776, 73.65306122,\n",
              "       71.83673469, 70.02040816, 68.20408163, 66.3877551 , 64.57142857,\n",
              "       62.75510204, 60.93877551, 59.12244898, 57.30612245, 55.48979592,\n",
              "       53.67346939, 51.85714286, 50.04081633, 48.2244898 , 46.40816327,\n",
              "       44.59183673, 42.7755102 , 40.95918367, 39.14285714, 37.32653061,\n",
              "       35.51020408, 33.69387755, 31.87755102, 30.06122449, 28.24489796,\n",
              "       26.42857143, 24.6122449 , 22.79591837, 20.97959184, 19.16326531,\n",
              "       17.34693878, 15.53061224, 13.71428571, 11.89795918, 10.08163265,\n",
              "        8.26530612,  6.44897959,  4.63265306,  2.81632653,  1.        ])"
            ]
          },
          "metadata": {},
          "execution_count": 30
        }
      ]
    },
    {
      "cell_type": "code",
      "source": [
        "np.random.randint(32,49)"
      ],
      "metadata": {
        "id": "WLpKYvXnK9c-",
        "outputId": "41edcad6-5f90-4f1d-8933-c4b25273b596",
        "colab": {
          "base_uri": "https://localhost:8080/"
        }
      },
      "execution_count": 34,
      "outputs": [
        {
          "output_type": "execute_result",
          "data": {
            "text/plain": [
              "37"
            ]
          },
          "metadata": {},
          "execution_count": 34
        }
      ]
    },
    {
      "cell_type": "code",
      "source": [
        "np.random.rand(2,5)"
      ],
      "metadata": {
        "id": "wRojP6vVLHIv",
        "outputId": "ff6b7d46-25e3-42de-987a-52edce5a8b49",
        "colab": {
          "base_uri": "https://localhost:8080/"
        }
      },
      "execution_count": 35,
      "outputs": [
        {
          "output_type": "execute_result",
          "data": {
            "text/plain": [
              "array([[0.80567295, 0.08042123, 0.0309912 , 0.37751352, 0.48894209],\n",
              "       [0.52183129, 0.0448301 , 0.4067807 , 0.6125513 , 0.22483592]])"
            ]
          },
          "metadata": {},
          "execution_count": 35
        }
      ]
    },
    {
      "cell_type": "code",
      "source": [
        "np.random.rand(10)"
      ],
      "metadata": {
        "id": "G-bvukQ3LSOE",
        "outputId": "4fc9ef6f-5834-412b-e460-958e9b0ba754",
        "colab": {
          "base_uri": "https://localhost:8080/"
        }
      },
      "execution_count": 36,
      "outputs": [
        {
          "output_type": "execute_result",
          "data": {
            "text/plain": [
              "array([0.72303123, 0.75820931, 0.84917381, 0.58601309, 0.34115051,\n",
              "       0.61972189, 0.64041927, 0.20460189, 0.5390949 , 0.94916458])"
            ]
          },
          "metadata": {},
          "execution_count": 36
        }
      ]
    },
    {
      "cell_type": "code",
      "source": [
        "np.random.rand(10)"
      ],
      "metadata": {
        "id": "ajyI0aftLYGN",
        "outputId": "2f028ed2-ad44-487e-d928-603e5d6ca5df",
        "colab": {
          "base_uri": "https://localhost:8080/"
        }
      },
      "execution_count": 37,
      "outputs": [
        {
          "output_type": "execute_result",
          "data": {
            "text/plain": [
              "array([0.22729791, 0.23580758, 0.9379255 , 0.94924135, 0.83020272,\n",
              "       0.08486593, 0.62830367, 0.0098621 , 0.86022456, 0.4680595 ])"
            ]
          },
          "metadata": {},
          "execution_count": 37
        }
      ]
    },
    {
      "cell_type": "code",
      "source": [
        "np.random.rand(111)"
      ],
      "metadata": {
        "id": "pEP9lqbsLcDr",
        "outputId": "6193aca2-597b-45d7-ce0c-0a3367d028a3",
        "colab": {
          "base_uri": "https://localhost:8080/"
        }
      },
      "execution_count": 38,
      "outputs": [
        {
          "output_type": "execute_result",
          "data": {
            "text/plain": [
              "array([0.07016671, 0.58448165, 0.41332647, 0.15867621, 0.11608141,\n",
              "       0.43740212, 0.24671928, 0.38725708, 0.42899227, 0.1694586 ,\n",
              "       0.365889  , 0.55471954, 0.76841165, 0.65107251, 0.27532528,\n",
              "       0.16421155, 0.53541418, 0.06428344, 0.75433142, 0.57048436,\n",
              "       0.17537857, 0.96921742, 0.256513  , 0.85880107, 0.65042569,\n",
              "       0.37466439, 0.48838076, 0.57875126, 0.39201579, 0.44873972,\n",
              "       0.44082033, 0.57244732, 0.55307047, 0.49440127, 0.23996864,\n",
              "       0.40304723, 0.64677128, 0.80361401, 0.38889264, 0.95634602,\n",
              "       0.78333827, 0.77534844, 0.89329093, 0.4679882 , 0.34268611,\n",
              "       0.86849647, 0.64662188, 0.39087746, 0.24618243, 0.67118385,\n",
              "       0.80429051, 0.92605367, 0.34290442, 0.3842884 , 0.52632405,\n",
              "       0.07583573, 0.01752457, 0.61310576, 0.93165224, 0.32773748,\n",
              "       0.18356896, 0.37909291, 0.85383325, 0.06389042, 0.17218019,\n",
              "       0.89827526, 0.83544333, 0.12093311, 0.10582444, 0.09768002,\n",
              "       0.50810239, 0.07860961, 0.45701018, 0.83190038, 0.72636916,\n",
              "       0.95236963, 0.13260265, 0.83208099, 0.95788983, 0.3655839 ,\n",
              "       0.19541682, 0.15507351, 0.5581013 , 0.34761016, 0.85059834,\n",
              "       0.2871091 , 0.43539821, 0.27070676, 0.32227132, 0.64433102,\n",
              "       0.32874068, 0.24317852, 0.29987407, 0.28120554, 0.02424935,\n",
              "       0.55152623, 0.08299759, 0.49662058, 0.25015873, 0.14775257,\n",
              "       0.04208252, 0.37815978, 0.17853309, 0.4441487 , 0.77615722,\n",
              "       0.51061687, 0.91515221, 0.35112133, 0.97585297, 0.56394225,\n",
              "       0.26389186])"
            ]
          },
          "metadata": {},
          "execution_count": 38
        }
      ]
    },
    {
      "cell_type": "code",
      "source": [
        "np.random.randint(1,20,5)"
      ],
      "metadata": {
        "id": "0s3B2zhfLwRV",
        "outputId": "8b2a6aeb-1358-4d6c-ed25-93f4ef6a9bbe",
        "colab": {
          "base_uri": "https://localhost:8080/"
        }
      },
      "execution_count": 40,
      "outputs": [
        {
          "output_type": "execute_result",
          "data": {
            "text/plain": [
              "array([ 5,  4, 11, 13, 12])"
            ]
          },
          "metadata": {},
          "execution_count": 40
        }
      ]
    },
    {
      "cell_type": "code",
      "source": [
        "np.random.rand(1,20,5)"
      ],
      "metadata": {
        "id": "NdgbTBy1L20m",
        "outputId": "bb749ef5-fe52-426b-d4fd-be6fa7dbbab1",
        "colab": {
          "base_uri": "https://localhost:8080/"
        }
      },
      "execution_count": 41,
      "outputs": [
        {
          "output_type": "execute_result",
          "data": {
            "text/plain": [
              "array([[[0.34138347, 0.81938795, 0.36416137, 0.36199529, 0.77183321],\n",
              "        [0.60753096, 0.12045855, 0.29333385, 0.31837337, 0.91479339],\n",
              "        [0.97932974, 0.82151705, 0.02710878, 0.25588849, 0.58244298],\n",
              "        [0.33482981, 0.58177637, 0.0804502 , 0.16359863, 0.89021971],\n",
              "        [0.27385559, 0.04398133, 0.52689572, 0.18505974, 0.35398718],\n",
              "        [0.79329543, 0.65217202, 0.97642585, 0.74515556, 0.31622595],\n",
              "        [0.24738812, 0.60429359, 0.49352422, 0.05320688, 0.27950107],\n",
              "        [0.25104375, 0.445486  , 0.35559079, 0.01394634, 0.9228927 ],\n",
              "        [0.13702371, 0.40039785, 0.10924007, 0.39509462, 0.23278645],\n",
              "        [0.06714523, 0.93647534, 0.5094822 , 0.51076585, 0.91090636],\n",
              "        [0.00210226, 0.25681665, 0.84169571, 0.73065296, 0.94686888],\n",
              "        [0.6204565 , 0.81404417, 0.71266425, 0.27180983, 0.76979381],\n",
              "        [0.40475003, 0.81521052, 0.55428723, 0.35401711, 0.50861305],\n",
              "        [0.71739803, 0.56520093, 0.42824845, 0.75763856, 0.16914064],\n",
              "        [0.6684215 , 0.14406975, 0.46717635, 0.14017905, 0.91923212],\n",
              "        [0.28113181, 0.299798  , 0.3428881 , 0.48753492, 0.57481179],\n",
              "        [0.76300517, 0.57097082, 0.89690242, 0.14451615, 0.14630033],\n",
              "        [0.4507239 , 0.33053422, 0.11795481, 0.34183395, 0.79610518],\n",
              "        [0.58955486, 0.65585501, 0.4712282 , 0.17316549, 0.46441726],\n",
              "        [0.95963722, 0.43237963, 0.80039882, 0.06917339, 0.55052699]]])"
            ]
          },
          "metadata": {},
          "execution_count": 41
        }
      ]
    },
    {
      "cell_type": "code",
      "source": [
        "sample_array=np.random.randint(0,100,20)\n",
        "sample_array"
      ],
      "metadata": {
        "id": "fjotBTKiL-bW",
        "outputId": "03facec2-79c2-42a3-a71c-c34cb06b5b69",
        "colab": {
          "base_uri": "https://localhost:8080/"
        }
      },
      "execution_count": 42,
      "outputs": [
        {
          "output_type": "execute_result",
          "data": {
            "text/plain": [
              "array([53, 76, 83, 51, 54, 56, 44, 62,  7, 52, 31, 53, 15, 50, 49,  4, 74,\n",
              "       32, 40, 81])"
            ]
          },
          "metadata": {},
          "execution_count": 42
        }
      ]
    },
    {
      "cell_type": "code",
      "source": [
        "rand_array=np.random.randint(0,100,20)\n",
        "rand_array"
      ],
      "metadata": {
        "id": "q7HdbYkeM2BJ",
        "outputId": "3d053faf-62f4-4e17-e112-b667cc244ea0",
        "colab": {
          "base_uri": "https://localhost:8080/"
        }
      },
      "execution_count": 49,
      "outputs": [
        {
          "output_type": "execute_result",
          "data": {
            "text/plain": [
              "array([12, 28, 58, 44, 38, 75, 88, 32, 53, 53, 74, 87, 90, 98, 61, 67,  0,\n",
              "        3,  8, 58])"
            ]
          },
          "metadata": {},
          "execution_count": 49
        }
      ]
    },
    {
      "cell_type": "code",
      "source": [
        "rand_array.max()"
      ],
      "metadata": {
        "id": "dPTpmr9FNdXH",
        "outputId": "3d11f036-d60e-41c6-e8ae-9d719b38f074",
        "colab": {
          "base_uri": "https://localhost:8080/"
        }
      },
      "execution_count": 51,
      "outputs": [
        {
          "output_type": "execute_result",
          "data": {
            "text/plain": [
              "98"
            ]
          },
          "metadata": {},
          "execution_count": 51
        }
      ]
    },
    {
      "cell_type": "code",
      "source": [
        "a=np.eye(7)\n",
        "a"
      ],
      "metadata": {
        "id": "zEXbyPAiNAuf",
        "outputId": "2211a206-4a3a-4b0d-8130-c55e6962b7ab",
        "colab": {
          "base_uri": "https://localhost:8080/"
        }
      },
      "execution_count": 55,
      "outputs": [
        {
          "output_type": "execute_result",
          "data": {
            "text/plain": [
              "array([[1., 0., 0., 0., 0., 0., 0.],\n",
              "       [0., 1., 0., 0., 0., 0., 0.],\n",
              "       [0., 0., 1., 0., 0., 0., 0.],\n",
              "       [0., 0., 0., 1., 0., 0., 0.],\n",
              "       [0., 0., 0., 0., 1., 0., 0.],\n",
              "       [0., 0., 0., 0., 0., 1., 0.],\n",
              "       [0., 0., 0., 0., 0., 0., 1.]])"
            ]
          },
          "metadata": {},
          "execution_count": 55
        }
      ]
    },
    {
      "cell_type": "code",
      "source": [
        "a.T"
      ],
      "metadata": {
        "id": "sKUrlxq4N16t",
        "outputId": "688d182b-16d7-4e2f-8760-3876a3d49a35",
        "colab": {
          "base_uri": "https://localhost:8080/"
        }
      },
      "execution_count": 56,
      "outputs": [
        {
          "output_type": "execute_result",
          "data": {
            "text/plain": [
              "array([[1., 0., 0., 0., 0., 0., 0.],\n",
              "       [0., 1., 0., 0., 0., 0., 0.],\n",
              "       [0., 0., 1., 0., 0., 0., 0.],\n",
              "       [0., 0., 0., 1., 0., 0., 0.],\n",
              "       [0., 0., 0., 0., 1., 0., 0.],\n",
              "       [0., 0., 0., 0., 0., 1., 0.],\n",
              "       [0., 0., 0., 0., 0., 0., 1.]])"
            ]
          },
          "metadata": {},
          "execution_count": 56
        }
      ]
    },
    {
      "cell_type": "code",
      "source": [
        "sample_array=np.arange(10,21)\n",
        "sample_array"
      ],
      "metadata": {
        "id": "2vVFiKRzNv-N",
        "outputId": "325037dc-6f93-4a30-892b-50fddbb9e2c9",
        "colab": {
          "base_uri": "https://localhost:8080/"
        }
      },
      "execution_count": 58,
      "outputs": [
        {
          "output_type": "execute_result",
          "data": {
            "text/plain": [
              "array([10, 11, 12, 13, 14, 15, 16, 17, 18, 19, 20])"
            ]
          },
          "metadata": {},
          "execution_count": 58
        }
      ]
    },
    {
      "cell_type": "code",
      "source": [
        "sample_array[4]"
      ],
      "metadata": {
        "id": "e4w8v7lKObmz",
        "outputId": "6dab3335-c807-4b57-e913-bed272626c4c",
        "colab": {
          "base_uri": "https://localhost:8080/"
        }
      },
      "execution_count": 59,
      "outputs": [
        {
          "output_type": "execute_result",
          "data": {
            "text/plain": [
              "14"
            ]
          },
          "metadata": {},
          "execution_count": 59
        }
      ]
    },
    {
      "cell_type": "code",
      "source": [
        "sample_array[2:9]"
      ],
      "metadata": {
        "id": "6WpEFiErOhmY",
        "outputId": "35f31338-33ca-4796-910b-39222aa3b0fd",
        "colab": {
          "base_uri": "https://localhost:8080/"
        }
      },
      "execution_count": 60,
      "outputs": [
        {
          "output_type": "execute_result",
          "data": {
            "text/plain": [
              "array([12, 13, 14, 15, 16, 17, 18])"
            ]
          },
          "metadata": {},
          "execution_count": 60
        }
      ]
    },
    {
      "cell_type": "code",
      "source": [
        "sample_array[:9]"
      ],
      "metadata": {
        "id": "Xo1akSVZOlhE",
        "outputId": "2650be61-3cb8-4bf3-839b-4bd92f16a25c",
        "colab": {
          "base_uri": "https://localhost:8080/"
        }
      },
      "execution_count": 61,
      "outputs": [
        {
          "output_type": "execute_result",
          "data": {
            "text/plain": [
              "array([10, 11, 12, 13, 14, 15, 16, 17, 18])"
            ]
          },
          "metadata": {},
          "execution_count": 61
        }
      ]
    },
    {
      "cell_type": "code",
      "source": [
        "sample_array[1:4]=100\n",
        "sample_array"
      ],
      "metadata": {
        "id": "uUSGI172Oo0V",
        "outputId": "b07bc9bf-6cb0-4908-d41e-33fffee289a8",
        "colab": {
          "base_uri": "https://localhost:8080/"
        }
      },
      "execution_count": 63,
      "outputs": [
        {
          "output_type": "execute_result",
          "data": {
            "text/plain": [
              "array([ 10, 100, 100, 100,  14,  15,  16,  17,  18,  19,  20])"
            ]
          },
          "metadata": {},
          "execution_count": 63
        }
      ]
    },
    {
      "cell_type": "code",
      "source": [
        "sample_array[:]=999\n",
        "sample_array"
      ],
      "metadata": {
        "id": "-p9bnnflOv2u",
        "outputId": "45fc6b44-1de9-403c-ff89-a09d66c7749d",
        "colab": {
          "base_uri": "https://localhost:8080/"
        }
      },
      "execution_count": 65,
      "outputs": [
        {
          "output_type": "execute_result",
          "data": {
            "text/plain": [
              "array([999, 999, 999, 999, 999, 999, 999, 999, 999, 999, 999])"
            ]
          },
          "metadata": {},
          "execution_count": 65
        }
      ]
    },
    {
      "cell_type": "code",
      "source": [
        "#TWO DIMENSIONAL ARRAY"
      ],
      "metadata": {
        "id": "5lmm-McsPA6n"
      },
      "execution_count": 66,
      "outputs": []
    },
    {
      "cell_type": "code",
      "source": [
        "sample_matrix=np.array(([1,2,3,23],[27,5,8,88],[6,3,9,6]))\n",
        "sample_matrix"
      ],
      "metadata": {
        "id": "Wqeu7UFzPxAU",
        "outputId": "ee2e1a78-557a-4b67-8ba9-cd21d7ca293f",
        "colab": {
          "base_uri": "https://localhost:8080/"
        }
      },
      "execution_count": 74,
      "outputs": [
        {
          "output_type": "execute_result",
          "data": {
            "text/plain": [
              "array([[ 1,  2,  3, 23],\n",
              "       [27,  5,  8, 88],\n",
              "       [ 6,  3,  9,  6]])"
            ]
          },
          "metadata": {},
          "execution_count": 74
        }
      ]
    },
    {
      "cell_type": "code",
      "source": [
        "sample_matrix[2][3]"
      ],
      "metadata": {
        "id": "NSTSzgFeP_c2",
        "outputId": "d5ec314c-5b0d-478d-eaf6-a6881de056a3",
        "colab": {
          "base_uri": "https://localhost:8080/"
        }
      },
      "execution_count": 75,
      "outputs": [
        {
          "output_type": "execute_result",
          "data": {
            "text/plain": [
              "6"
            ]
          },
          "metadata": {},
          "execution_count": 75
        }
      ]
    },
    {
      "cell_type": "code",
      "source": [
        "sample_matrix[2]"
      ],
      "metadata": {
        "id": "kZvGa_RWQNdE",
        "outputId": "7930eb54-5e44-4631-992a-7e1cd4ed6734",
        "colab": {
          "base_uri": "https://localhost:8080/"
        }
      },
      "execution_count": 77,
      "outputs": [
        {
          "output_type": "execute_result",
          "data": {
            "text/plain": [
              "array([6, 3, 9, 6])"
            ]
          },
          "metadata": {},
          "execution_count": 77
        }
      ]
    },
    {
      "cell_type": "code",
      "source": [
        "sample_matrix[2,:1]"
      ],
      "metadata": {
        "id": "5D-YiJglQdAN",
        "outputId": "edbdbe47-9840-47db-f631-b5209c430b1d",
        "colab": {
          "base_uri": "https://localhost:8080/"
        }
      },
      "execution_count": 78,
      "outputs": [
        {
          "output_type": "execute_result",
          "data": {
            "text/plain": [
              "array([6])"
            ]
          },
          "metadata": {},
          "execution_count": 78
        }
      ]
    },
    {
      "cell_type": "code",
      "source": [
        "sample_matrix[:,(3,2)]"
      ],
      "metadata": {
        "id": "KRP-PETrQj-s",
        "outputId": "e4787ecb-25df-4b74-b6eb-752218a693ac",
        "colab": {
          "base_uri": "https://localhost:8080/"
        }
      },
      "execution_count": 79,
      "outputs": [
        {
          "output_type": "execute_result",
          "data": {
            "text/plain": [
              "array([[23,  3],\n",
              "       [88,  8],\n",
              "       [ 6,  9]])"
            ]
          },
          "metadata": {},
          "execution_count": 79
        }
      ]
    },
    {
      "cell_type": "code",
      "source": [
        "sample_matrix"
      ],
      "metadata": {
        "id": "GOlSodiiQq-F",
        "outputId": "0c056256-2401-4cd2-e4aa-3613f3db2641",
        "colab": {
          "base_uri": "https://localhost:8080/"
        }
      },
      "execution_count": 80,
      "outputs": [
        {
          "output_type": "execute_result",
          "data": {
            "text/plain": [
              "array([[ 1,  2,  3, 23],\n",
              "       [27,  5,  8, 88],\n",
              "       [ 6,  3,  9,  6]])"
            ]
          },
          "metadata": {},
          "execution_count": 80
        }
      ]
    },
    {
      "cell_type": "code",
      "source": [
        "sample_matrix[3:]"
      ],
      "metadata": {
        "id": "hwvg70woRCao",
        "outputId": "ec90ecb5-b4df-4975-b612-bf6fa3fa4e00",
        "colab": {
          "base_uri": "https://localhost:8080/"
        }
      },
      "execution_count": 81,
      "outputs": [
        {
          "output_type": "execute_result",
          "data": {
            "text/plain": [
              "array([], shape=(0, 4), dtype=int64)"
            ]
          },
          "metadata": {},
          "execution_count": 81
        }
      ]
    },
    {
      "cell_type": "code",
      "source": [
        "sample_matrix[2]"
      ],
      "metadata": {
        "id": "mNjr1IqARGxB",
        "outputId": "bf22e260-d32d-46dd-ed4d-880844008ad7",
        "colab": {
          "base_uri": "https://localhost:8080/"
        }
      },
      "execution_count": 83,
      "outputs": [
        {
          "output_type": "execute_result",
          "data": {
            "text/plain": [
              "array([6, 3, 9, 6])"
            ]
          },
          "metadata": {},
          "execution_count": 83
        }
      ]
    },
    {
      "cell_type": "code",
      "source": [
        "sample_matrix[:2]"
      ],
      "metadata": {
        "id": "Z_25pPtRRbIr",
        "outputId": "6e746165-02f3-4727-c915-15e7965d2214",
        "colab": {
          "base_uri": "https://localhost:8080/"
        }
      },
      "execution_count": 85,
      "outputs": [
        {
          "output_type": "execute_result",
          "data": {
            "text/plain": [
              "array([[ 1,  2,  3, 23],\n",
              "       [27,  5,  8, 88]])"
            ]
          },
          "metadata": {},
          "execution_count": 85
        }
      ]
    },
    {
      "cell_type": "code",
      "source": [],
      "metadata": {
        "id": "sTuu1EVWSa1r"
      },
      "execution_count": null,
      "outputs": []
    }
  ]
}